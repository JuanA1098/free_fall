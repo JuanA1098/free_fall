{
 "cells": [
  {
   "cell_type": "code",
   "execution_count": 1,
   "metadata": {},
   "outputs": [],
   "source": [
    "# Importando librerias \n",
    "%reset -f\n",
    "\n",
    "# Rutinas que requiere el sistema. \n",
    "import numpy as np\n",
    "import matplotlib.pyplot as plt\n",
    "\n",
    "# Esto controla el tamaño de las figuras en el script \n",
    "plt.rcParams['figure.figsize'] = (16,8)\n",
    "\n",
    "import ipywidgets as ipw\n",
    "from ipywidgets import widgets, interact_manual\n",
    "\n",
    "# Las rutinas que calculan posiciones y velocidades\n",
    "from F_FreeFall import FreeFall\n",
    "from FF_ideal import FF_V\n",
    "\n",
    "# Esto es para poder correr todo en linea\n",
    "ipw.interact_manual.opts['manual_name'] = \"CALCULAR!\"\n",
    "np.set_printoptions(formatter={'float': '{: 0.3f}'.format})"
   ]
  },
  {
   "cell_type": "markdown",
   "metadata": {},
   "source": [
    "Acá viene la descripción inicial del problema con las ecuaciones que se utilizarán y los diferentes parámetros que variarán en el problema"
   ]
  },
  {
   "cell_type": "code",
   "execution_count": 2,
   "metadata": {},
   "outputs": [],
   "source": [
    "# ===========================================================================\n",
    "# Se define una función que engloba todo y corre el problema de caída libre \n",
    "# cuando se definen los valores de los parámetros que se van a variar para\n",
    "# el desarrollo dle problema\n",
    "# ===========================================================================\n",
    "def RUN_ALL(rho_f, rho_p, nu, D):\n",
    "    \n",
    "    # Las condiciones iniciales del problema están \"hard coded\". No se puede\n",
    "    # cambiar esta situación a menos que se cambien las funciones que hacen \n",
    "    # los cálculos (Acá se ponen estas variables que son las mismas de la \n",
    "    # rutina de cálculos)\n",
    "    Z0 = 0\n",
    "    V0 = 0\n",
    "    h = 1e-3\n",
    "    tf = 3\n",
    "    \n",
    "    # Se construye la variable ANSW que almacenará los vectores que serán \n",
    "    # graficados. EL orden es el siguiente: T, Zi, Vi, Z, V\n",
    "    ANSW = np.zeros((5, int(tf / h) + 1))\n",
    "    \n",
    "    # Esto corre el caso ideal que no tiene fricción (la idea es poder \n",
    "    # comparar lo que sucede en los dos casos)\n",
    "    ANSW[1, :], ANSW[2, :] =  FF_V(Z0, V0, h, tf)\n",
    "    \n",
    "    # Esto corre lo referente al caso con fricción y rozamiento\n",
    "    ANSW[0, :], ANSW[3, :], ANSW[4, :] = FreeFall(rho_f, rho_p, nu, D)\n",
    "    \n",
    "    # Llamando a una función que haga gráficas bonitas en cuanto se refiere\n",
    "    # a colores, fuentes y manejo del espacio\n",
    "    plotresults(ANSW)\n",
    "    "
   ]
  },
  {
   "cell_type": "code",
   "execution_count": 3,
   "metadata": {},
   "outputs": [],
   "source": [
    "# ===========================================================================\n",
    "# Haciendo la figura yu poniéndola bonita para efectos de poder entrar a \n",
    "# hacerla en un app. Vamos a ver si la hacemos funcionar. \n",
    "# ===========================================================================\n",
    "def plotresults(ANSW):\n",
    "    \n",
    "    # plt.style.use('ggplot')\n",
    "    fig = plt.figure(facecolor=\"white\");\n",
    "    # fig = plt.subplots(nrows = 1, ncols = 2, sharey = True)\n",
    "        \n",
    "    # Para reducir espacio\n",
    "    Labels = [\"Posición teórica\", \"Posición real\", \"Velocidad Teórica\", \n",
    "             \"Velocidad Real\"]\n",
    "    \n",
    "    # Librería de colores (a lo mejor y no uso ninguno)\n",
    "    Colors = [\"darkmagenta\",\"darkgreen\",\"seagreen\",\"dodgerblue\",\"dimgrey\"]\n",
    "    FaceColors = [\"lavenderblush\",\"honeydew\",\"mintcream\",\"aliceblue\",\"whitesmoke\"]\n",
    "    \n",
    "    # Haciendo las gráficas por separado para que sea fácil poder cambiar\n",
    "    # No necesito hacer ciclos porque son muy pocas. \n",
    "    # Gráfica de posiciones contra tiempo\n",
    "    ax1 = plt.subplot(1, 2, 1)\n",
    "    ax1.plot(ANSW[0, :], ANSW[1, :], label=Labels[0],c=Colors[0],lw=3, linestyle=':')\n",
    "    ax1.plot(ANSW[0, :], ANSW[3, :], label=Labels[1],c=Colors[0],lw=3)\n",
    "    ax1.set_ylim([0, 4])\n",
    "    ax1.set_xlim([0, 2.5])\n",
    "    ax1.set_facecolor(FaceColors[0])\n",
    "    # ax1.text(45,(ANSW[0,0]+ANSW[0,-1])/2,\"Posición\",\\\n",
    "    #          fontdict={'weight':'bold','size':10,'color':Colors[0]})\n",
    "    \n",
    "    # Gráfica de velocidades\n",
    "    ax2 = plt.subplot(1, 2, 2)\n",
    "    ax2.plot(ANSW[0, :], ANSW[2, :], label=Labels[2],c=Colors[3],lw=3, linestyle=':')\n",
    "    ax2.plot(ANSW[0, :], ANSW[4, :], label=Labels[3],c=Colors[3],lw=3)\n",
    "    ax2.set_ylim([0, 4])\n",
    "    ax2.set_xlim([0, 2.5])\n",
    "    ax2.set_facecolor(FaceColors[3])\n",
    "    # ax2.text(45,(ANSW[0,0]+ANSW[0,-1])/2,\"Velocidad\",\\\n",
    "    #          fontdict={'weight':'bold','size':10,'color':Colors[1]})\n",
    "    \n",
    "    # Mostrando los resultados en el notebook\n",
    "    plt.show()"
   ]
  },
  {
   "cell_type": "code",
   "execution_count": 4,
   "metadata": {},
   "outputs": [
    {
     "data": {
      "application/vnd.jupyter.widget-view+json": {
       "model_id": "a16b567d45f949d2beb3c9465d7e5cd7",
       "version_major": 2,
       "version_minor": 0
      },
      "text/plain": [
       "interactive(children=(IntSlider(value=1000, description='$\\\\rho_f \\\\ (kg/m^3)$', max=2000, min=600, step=10), …"
      ]
     },
     "metadata": {},
     "output_type": "display_data"
    }
   ],
   "source": [
    "# ===========================================================================\n",
    "# Funcion que corre todo lo que he progrmado y hace que salgan los sliders \n",
    "# para determinar los diferentes parámetros que gobiernan el fenómeno de la \n",
    "# caída libre de cuerpos en un fluido (desde el reposo)\n",
    "# ===========================================================================\n",
    "\n",
    "# Descripción de los sliders \n",
    "DESCR = [r\"$\\rho_f \\ (kg/m^3)$\",\\\n",
    "         r\"$\\rho_p \\ (kg/m^3)$\",\\\n",
    "         r\"$\\nu_f \\ (m^2/s)$\",\\\n",
    "         r\"$D_p \\ (mm)$\"]\n",
    "\n",
    "# Correr todo y poner los sliders en la pantalla\n",
    "interact_manual(RUN_ALL, \\\n",
    "    rho_f=widgets.IntSlider(description=DESCR[0], min=600, max=2000, value=1000 , step=10),\\\n",
    "    rho_p=widgets.IntSlider(description=DESCR[1], min=2000, max=1e4, value=2200 , step=10),\\\n",
    "    nu=widgets.FloatLogSlider(description=DESCR[2], min=-7, max=-2, value=1.14e-6 , step=.1),\\\n",
    "    D=widgets.FloatSlider(description=DESCR[3], min=0.1, max=100 , value=10   , step=.1));"
   ]
  },
  {
   "cell_type": "code",
   "execution_count": 5,
   "metadata": {},
   "outputs": [
    {
     "name": "stdout",
     "output_type": "stream",
     "text": [
      "CPython 3.8.5\n",
      "IPython 7.18.1\n",
      "\n",
      "numpy 1.19.1\n",
      "matplotlib 3.3.1\n",
      "watermark 2.0.2\n",
      "\n",
      "compiler   : GCC 7.3.0\n",
      "system     : Linux\n",
      "release    : 4.19.0-11-amd64\n",
      "machine    : x86_64\n",
      "processor  : \n",
      "CPU cores  : 4\n",
      "interpreter: 64bit\n",
      " \n",
      "last updated: Wed Oct 21 2020 19:45:44 -05\n"
     ]
    }
   ],
   "source": [
    "# Imprimiendo las dependencias para que esto pueda funcionar. \n",
    "%load_ext watermark\n",
    "\n",
    "# python, ipython, packages, and machine characteristics\n",
    "%watermark -v -m -p numpy,matplotlib,watermark \n",
    "\n",
    "# date\n",
    "print (\" \")\n",
    "%watermark -u -n -t -z"
   ]
  }
 ],
 "metadata": {
  "kernelspec": {
   "display_name": "Python 3",
   "language": "python",
   "name": "python3"
  },
  "language_info": {
   "codemirror_mode": {
    "name": "ipython",
    "version": 3
   },
   "file_extension": ".py",
   "mimetype": "text/x-python",
   "name": "python",
   "nbconvert_exporter": "python",
   "pygments_lexer": "ipython3",
   "version": "3.8.5"
  }
 },
 "nbformat": 4,
 "nbformat_minor": 4
}
