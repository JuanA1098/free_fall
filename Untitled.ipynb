{
 "cells": [
  {
   "cell_type": "code",
   "execution_count": 1,
   "metadata": {},
   "outputs": [],
   "source": [
    "# Importando librerias \n",
    "%reset -f\n",
    "import numpy as np\n",
    "import matplotlib.pyplot as plt\n",
    "from funciones import Cd\n",
    "from funciones import Fi"
   ]
  },
  {
   "cell_type": "code",
   "execution_count": 2,
   "metadata": {},
   "outputs": [],
   "source": [
    "rho_f = 1800           # Densidad fluido kg/m3\n",
    "rho_p = 7000           # Densidad particula kg/m3\n",
    "nu = 1.14e-6           # Viscosidad en m2/s\n",
    "D = 50                 # Diametro part mm\n",
    "Z0 = 0                 # Altura inicial m\n",
    "V0 = 0                 # Velocidad inicial m/s\n",
    "h = 0.001              # Paso de tiempo s\n",
    "tf = 3                 # Tiempo final de simulacion s"
   ]
  },
  {
   "cell_type": "code",
   "execution_count": 3,
   "metadata": {},
   "outputs": [],
   "source": [
    "# Calculo de parametros principales que pueden ser realizados una sola vez\n",
    "D /= 1000\n",
    "RHO = rho_f / rho_p\n",
    "A = 1 + RHO * 0.5\n",
    "B = (1 - RHO) * 9.81\n",
    "C = 0.75 * RHO / D\n",
    "pasos = int(tf / h)"
   ]
  },
  {
   "cell_type": "code",
   "execution_count": 4,
   "metadata": {},
   "outputs": [],
   "source": [
    "# Crear los vectores donde voy a solucionar\n",
    "T = np.linspace(0, tf, pasos + 1)\n",
    "V = np.zeros_like(T)\n",
    "Z = np.zeros_like(T)\n",
    "Zv = np.zeros_like(T)\n",
    "Vv = np.zeros_like(T)"
   ]
  },
  {
   "cell_type": "code",
   "execution_count": 5,
   "metadata": {},
   "outputs": [],
   "source": [
    "# Imponer condiciones iniciales\n",
    "V[0] = V0\n",
    "Z[0] = Z0"
   ]
  },
  {
   "cell_type": "code",
   "execution_count": 6,
   "metadata": {},
   "outputs": [],
   "source": [
    "# Empezando el bucle temporal (la carne del asunto)\n",
    "for i in range(1, pasos + 1):\n",
    "    \n",
    "    # Calculando la posicion y la velocidad cuando una esfera cae en el vacio\n",
    "    # CAso ideal\n",
    "    Vv[i] = V0 + 9.81 * (h * i)\n",
    "    Zv[i] = Z0 + V0 * (h * i) + 0.5 * 9.81 * (h * i) ** 2\n",
    "    \n",
    "    # Calculando el coeficiente de arrastre por medio de la funcion externa\n",
    "    CD = Cd(V[i - 1], D, nu)\n",
    "    \n",
    "    # Calculo de incrementos para el metodo RK4\n",
    "    d1z = h * V[i - 1]\n",
    "    d1v = h * Fi(A, B, C, CD, V[i - 1])\n",
    "    d2z = h * (V[i - 1] + 0.5 * d1v)\n",
    "    d2v = h * (V[i -1] + 0.5 * d1v)\n",
    "    d3z = h * (V[i - 1] + 0.5 * d2v)\n",
    "    d3v = h * Fi(A, B, C, CD, V[i - 1] + 0.5 * d2v)\n",
    "    d4z = h * (V[i - 1] + d3v)\n",
    "    d4v = h * Fi(A, B, C, CD, V[i - 1] + d3v)\n",
    "    \n",
    "    # Con los valores incrementales calculados, se procede a calcular el siguiente \n",
    "    # valor de la funcion numericamente \n",
    "    Z[i] = Z[i - 1] + (1 / 6) * (d1z + 2 * (d2z + d3z) + d4z);\n",
    "    V[i] = V[i - 1] + (1 / 6) * (d1v + 2 * (d2v + d3v) + d4v);"
   ]
  },
  {
   "cell_type": "code",
   "execution_count": 7,
   "metadata": {},
   "outputs": [
    {
     "data": {
      "text/plain": [
       "Text(0.5, 0.98, 'Graficas de caida libre')"
      ]
     },
     "execution_count": 7,
     "metadata": {},
     "output_type": "execute_result"
    },
    {
     "data": {
      "image/png": "[encoded data removed]",
      "text/plain": [
       "<Figure size 1080x360 with 2 Axes>"
      ]
     },
     "metadata": {},
     "output_type": "display_data"
    }
   ],
   "source": [
    "# Haciendo la figura yu poniéndola bonita para efectos de poder entrar a \n",
    "# hacerla en un app. Vamos a ver si la hacemos funcionar. \n",
    "plt.style.use('ggplot')\n",
    "fig, axs = plt.subplots(1, 2, figsize=(15, 5), sharey=True)\n",
    "axs[0].plot(T, Z)\n",
    "axs[0].plot(T, Zv, linestyle=':')\n",
    "axs[1].plot(T, V)\n",
    "axs[1].plot(T, Vv, linestyle=':')\n",
    "axs[0].set_ylim(0, 3)\n",
    "fig.suptitle('Graficas de caida libre')"
   ]
  },
  {
   "cell_type": "code",
   "execution_count": 8,
   "metadata": {},
   "outputs": [
    {
     "name": "stdout",
     "output_type": "stream",
     "text": [
      "CPython 3.7.3\n",
      "IPython 5.8.0\n",
      "\n",
      "numpy 1.16.2\n",
      "matplotlib 3.0.2\n",
      "watermark 2.0.2\n",
      "\n",
      "compiler   : GCC 8.3.0\n",
      "system     : Linux\n",
      "release    : 4.19.0-10-amd64\n",
      "machine    : x86_64\n",
      "processor  : \n",
      "CPU cores  : 4\n",
      "interpreter: 64bit\n",
      " \n",
      "last updated: Fri Sep 04 2020 21:29:31 -05\n"
     ]
    }
   ],
   "source": [
    "# Imprimiendo las dependencias para que esto pueda funcionar. \n",
    "%load_ext watermark\n",
    "\n",
    "# python, ipython, packages, and machine characteristics\n",
    "%watermark -v -m -p numpy,matplotlib,watermark \n",
    "\n",
    "# date\n",
    "print (\" \")\n",
    "%watermark -u -n -t -z"
   ]
  }
 ],
 "metadata": {
  "kernelspec": {
   "display_name": "Python 3",
   "language": "python",
   "name": "python3"
  },
  "language_info": {
   "codemirror_mode": {
    "name": "ipython",
    "version": 3
   },
   "file_extension": ".py",
   "mimetype": "text/x-python",
   "name": "python",
   "nbconvert_exporter": "python",
   "pygments_lexer": "ipython3",
   "version": "3.7.3"
  }
 },
 "nbformat": 4,
 "nbformat_minor": 4
}
