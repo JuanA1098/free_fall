{
 "cells": [
  {
   "cell_type": "code",
   "execution_count": 1,
   "metadata": {},
   "outputs": [],
   "source": [
    "# Importando librerias \n",
    "import numpy as np\n",
    "import matplotlib.pyplot as plt\n",
    "from funciones import Cd"
   ]
  },
  {
   "cell_type": "code",
   "execution_count": 2,
   "metadata": {},
   "outputs": [],
   "source": [
    "rho_f = 1800           # Densidad fluido kg/m3\n",
    "rho_p = 3000           # Densidad particula kg/m3\n",
    "nu = 1.14e-6           # Viscosidad en m2/s\n",
    "D = 20                 # Diametro part mm\n",
    "Z0 = 0                 # Altura inicial m\n",
    "V0 = 0                 # Velocidad inicial m/s\n",
    "h = 0.001              # Paso de tiempo s\n",
    "tf = 3                 # Tiempo final de simulacion s"
   ]
  },
  {
   "cell_type": "code",
   "execution_count": 3,
   "metadata": {},
   "outputs": [],
   "source": [
    "# Calculo de parametros principales que pueden ser realizados una sola vez\n",
    "RHO = rho_f / rho_p\n",
    "A = 1 + RHO * 0.5\n",
    "B = (1 - RHO) * 9.81\n",
    "C = 0.75 * RHO / (D / 1000)\n",
    "pasos = np.ceil(tf / h)"
   ]
  },
  {
   "cell_type": "code",
   "execution_count": 4,
   "metadata": {},
   "outputs": [],
   "source": [
    "# Crear los vectores donde voy a solucionar\n",
    "T = np.linspace(0, pasos + 1, tf)\n",
    "V = np.zeros_like(T)\n",
    "Z = np.zeros_like(T)"
   ]
  },
  {
   "cell_type": "code",
   "execution_count": 5,
   "metadata": {},
   "outputs": [],
   "source": [
    "# Imponer condiciones iniciales\n",
    "V[0] = V0\n",
    "Z[0] = Z0"
   ]
  },
  {
   "cell_type": "code",
   "execution_count": 6,
   "metadata": {},
   "outputs": [
    {
     "name": "stdout",
     "output_type": "stream",
     "text": [
      "26315789.473684207\n",
      "None\n"
     ]
    }
   ],
   "source": [
    "Cd1 = Cd(3, 10, 1.14e-6)\n",
    "print(Cd1)"
   ]
  }
 ],
 "metadata": {
  "kernelspec": {
   "display_name": "Python 3",
   "language": "python",
   "name": "python3"
  },
  "language_info": {
   "codemirror_mode": {
    "name": "ipython",
    "version": 3
   },
   "file_extension": ".py",
   "mimetype": "text/x-python",
   "name": "python",
   "nbconvert_exporter": "python",
   "pygments_lexer": "ipython3",
   "version": "3.7.3"
  }
 },
 "nbformat": 4,
 "nbformat_minor": 4
}
